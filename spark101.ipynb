{
 "cells": [
  {
   "cell_type": "code",
   "execution_count": 1,
   "metadata": {},
   "outputs": [],
   "source": [
    "import pyspark\n",
    "import pandas as pd\n",
    "import numpy as np\n",
    "from pydataset import data as pydata\n",
    "from vega_datasets import data\n",
    "from pyspark.sql.functions import *"
   ]
  },
  {
   "cell_type": "code",
   "execution_count": 2,
   "metadata": {},
   "outputs": [],
   "source": [
    "spark = pyspark.sql.SparkSession.builder.getOrCreate()"
   ]
  },
  {
   "cell_type": "code",
   "execution_count": 3,
   "metadata": {},
   "outputs": [
    {
     "data": {
      "text/html": [
       "<div>\n",
       "<style scoped>\n",
       "    .dataframe tbody tr th:only-of-type {\n",
       "        vertical-align: middle;\n",
       "    }\n",
       "\n",
       "    .dataframe tbody tr th {\n",
       "        vertical-align: top;\n",
       "    }\n",
       "\n",
       "    .dataframe thead th {\n",
       "        text-align: right;\n",
       "    }\n",
       "</style>\n",
       "<table border=\"1\" class=\"dataframe\">\n",
       "  <thead>\n",
       "    <tr style=\"text-align: right;\">\n",
       "      <th></th>\n",
       "      <th>language</th>\n",
       "    </tr>\n",
       "  </thead>\n",
       "  <tbody>\n",
       "    <tr>\n",
       "      <th>0</th>\n",
       "      <td>c++</td>\n",
       "    </tr>\n",
       "    <tr>\n",
       "      <th>1</th>\n",
       "      <td>python</td>\n",
       "    </tr>\n",
       "    <tr>\n",
       "      <th>2</th>\n",
       "      <td>cobol</td>\n",
       "    </tr>\n",
       "    <tr>\n",
       "      <th>3</th>\n",
       "      <td>c#</td>\n",
       "    </tr>\n",
       "  </tbody>\n",
       "</table>\n",
       "</div>"
      ],
      "text/plain": [
       "  language\n",
       "0      c++\n",
       "1   python\n",
       "2    cobol\n",
       "3       c#"
      ]
     },
     "execution_count": 3,
     "metadata": {},
     "output_type": "execute_result"
    }
   ],
   "source": [
    "pd_df = pd.DataFrame(['c++','python','cobol','c#'],\n",
    "                    columns=(['language']))\n",
    "pd_df"
   ]
  },
  {
   "cell_type": "code",
   "execution_count": 4,
   "metadata": {},
   "outputs": [
    {
     "name": "stdout",
     "output_type": "stream",
     "text": [
      "+--------+\n",
      "|language|\n",
      "+--------+\n",
      "|     c++|\n",
      "|  python|\n",
      "|   cobol|\n",
      "|      c#|\n",
      "+--------+\n",
      "\n"
     ]
    }
   ],
   "source": [
    "sp_df = spark.createDataFrame(pd_df)\n",
    "sp_df.show()"
   ]
  },
  {
   "cell_type": "code",
   "execution_count": 5,
   "metadata": {},
   "outputs": [
    {
     "name": "stdout",
     "output_type": "stream",
     "text": [
      "+-------+--------+\n",
      "|summary|language|\n",
      "+-------+--------+\n",
      "|  count|       4|\n",
      "|   mean|    null|\n",
      "| stddev|    null|\n",
      "|    min|      c#|\n",
      "|    max|  python|\n",
      "+-------+--------+\n",
      "\n"
     ]
    }
   ],
   "source": [
    "sp_df.describe().show()"
   ]
  },
  {
   "cell_type": "code",
   "execution_count": 6,
   "metadata": {},
   "outputs": [
    {
     "name": "stdout",
     "output_type": "stream",
     "text": [
      "root\n",
      " |-- language: string (nullable = true)\n",
      "\n"
     ]
    }
   ],
   "source": [
    "sp_df.printSchema()"
   ]
  },
  {
   "cell_type": "code",
   "execution_count": 7,
   "metadata": {},
   "outputs": [
    {
     "data": {
      "text/plain": [
       "4"
      ]
     },
     "execution_count": 7,
     "metadata": {},
     "output_type": "execute_result"
    }
   ],
   "source": [
    "sp_df.count()"
   ]
  },
  {
   "cell_type": "code",
   "execution_count": 8,
   "metadata": {},
   "outputs": [
    {
     "name": "stdout",
     "output_type": "stream",
     "text": [
      "+------------+-----+-----+----+---+----------+---+---+---+---+-------+\n",
      "|manufacturer|model|displ|year|cyl|     trans|drv|cty|hwy| fl|  class|\n",
      "+------------+-----+-----+----+---+----------+---+---+---+---+-------+\n",
      "|        audi|   a4|  1.8|1999|  4|  auto(l5)|  f| 18| 29|  p|compact|\n",
      "|        audi|   a4|  1.8|1999|  4|manual(m5)|  f| 21| 29|  p|compact|\n",
      "|        audi|   a4|  2.0|2008|  4|manual(m6)|  f| 20| 31|  p|compact|\n",
      "|        audi|   a4|  2.0|2008|  4|  auto(av)|  f| 21| 30|  p|compact|\n",
      "|        audi|   a4|  2.8|1999|  6|  auto(l5)|  f| 16| 26|  p|compact|\n",
      "+------------+-----+-----+----+---+----------+---+---+---+---+-------+\n",
      "only showing top 5 rows\n",
      "\n"
     ]
    }
   ],
   "source": [
    "mpg = spark.createDataFrame(pydata('mpg'))\n",
    "mpg.show(5)"
   ]
  },
  {
   "cell_type": "code",
   "execution_count": 9,
   "metadata": {},
   "outputs": [],
   "source": [
    "message1 = concat(lit('The '), col('year'), lit(' '),\n",
    "col('manufacturer'), lit(' '), col('model'), \n",
    "lit(' has a '), col('cyl'), lit(\" cylinder engine.\"))"
   ]
  },
  {
   "cell_type": "code",
   "execution_count": 10,
   "metadata": {},
   "outputs": [
    {
     "name": "stdout",
     "output_type": "stream",
     "text": [
      "+-----------------------------------------+\n",
      "|message                                  |\n",
      "+-----------------------------------------+\n",
      "|The 1999 audi a4 has a 4 cylinder engine.|\n",
      "|The 1999 audi a4 has a 4 cylinder engine.|\n",
      "|The 2008 audi a4 has a 4 cylinder engine.|\n",
      "|The 2008 audi a4 has a 4 cylinder engine.|\n",
      "|The 1999 audi a4 has a 6 cylinder engine.|\n",
      "+-----------------------------------------+\n",
      "only showing top 5 rows\n",
      "\n"
     ]
    }
   ],
   "source": [
    "mpg.select(message1.alias('message')).show(5, truncate=False)"
   ]
  },
  {
   "cell_type": "code",
   "execution_count": 12,
   "metadata": {},
   "outputs": [
    {
     "name": "stdout",
     "output_type": "stream",
     "text": [
      "+------+\n",
      "|  tran|\n",
      "+------+\n",
      "|  auto|\n",
      "|manual|\n",
      "|manual|\n",
      "|  auto|\n",
      "|  auto|\n",
      "+------+\n",
      "only showing top 5 rows\n",
      "\n"
     ]
    }
   ],
   "source": [
    "mpg.select(substring_index('trans', '(', 1).alias('tran')).show(5)"
   ]
  },
  {
   "cell_type": "code",
   "execution_count": 13,
   "metadata": {},
   "outputs": [
    {
     "name": "stdout",
     "output_type": "stream",
     "text": [
      "+----------+----+------+------+---+------+----+\n",
      "|total_bill| tip|   sex|smoker|day|  time|size|\n",
      "+----------+----+------+------+---+------+----+\n",
      "|     16.99|1.01|Female|    No|Sun|Dinner|   2|\n",
      "|     10.34|1.66|  Male|    No|Sun|Dinner|   3|\n",
      "|     21.01| 3.5|  Male|    No|Sun|Dinner|   3|\n",
      "|     23.68|3.31|  Male|    No|Sun|Dinner|   2|\n",
      "|     24.59|3.61|Female|    No|Sun|Dinner|   4|\n",
      "+----------+----+------+------+---+------+----+\n",
      "only showing top 5 rows\n",
      "\n"
     ]
    }
   ],
   "source": [
    "tips = spark.createDataFrame(pydata('tips'))\n",
    "tips.show(5)"
   ]
  },
  {
   "cell_type": "code",
   "execution_count": 14,
   "metadata": {},
   "outputs": [
    {
     "data": {
      "text/plain": [
       "0.38114754098360654"
      ]
     },
     "execution_count": 14,
     "metadata": {},
     "output_type": "execute_result"
    }
   ],
   "source": [
    "tips.where(tips.smoker =='Yes').count() / tips.count()"
   ]
  },
  {
   "cell_type": "code",
   "execution_count": 15,
   "metadata": {},
   "outputs": [
    {
     "name": "stdout",
     "output_type": "stream",
     "text": [
      "+------+-----+-------+\n",
      "|smoker|count|percent|\n",
      "+------+-----+-------+\n",
      "|    No|  151|    62%|\n",
      "|   Yes|   93|    38%|\n",
      "+------+-----+-------+\n",
      "\n"
     ]
    }
   ],
   "source": [
    "tips.groupBy('smoker').count().withColumn('percent', \n",
    "            concat(round(col('count')/tips.count()*100,0)\n",
    "                   .cast('int'), lit('%'))).show()"
   ]
  },
  {
   "cell_type": "code",
   "execution_count": 16,
   "metadata": {},
   "outputs": [
    {
     "name": "stdout",
     "output_type": "stream",
     "text": [
      "+------+-----+-------------------+\n",
      "|smoker|count|            percent|\n",
      "+------+-----+-------------------+\n",
      "|    No|  151| 0.6188524590163934|\n",
      "|   Yes|   93|0.38114754098360654|\n",
      "+------+-----+-------------------+\n",
      "\n"
     ]
    }
   ],
   "source": [
    "smoker_prop = tips.groupBy('smoker').count()\n",
    "\n",
    "smoker_prop.withColumn('percent', col('count')/tips.count()).show()"
   ]
  },
  {
   "cell_type": "code",
   "execution_count": 18,
   "metadata": {},
   "outputs": [
    {
     "name": "stdout",
     "output_type": "stream",
     "text": [
      "+----------+----+------+------+---+------+----+-----------+\n",
      "|total_bill| tip|   sex|smoker|day|  time|size|tip_percent|\n",
      "+----------+----+------+------+---+------+----+-----------+\n",
      "|     16.99|1.01|Female|    No|Sun|Dinner|   2|     0.0594|\n",
      "|     10.34|1.66|  Male|    No|Sun|Dinner|   3|     0.1605|\n",
      "|     21.01| 3.5|  Male|    No|Sun|Dinner|   3|     0.1666|\n",
      "|     23.68|3.31|  Male|    No|Sun|Dinner|   2|     0.1398|\n",
      "|     24.59|3.61|Female|    No|Sun|Dinner|   4|     0.1468|\n",
      "|     25.29|4.71|  Male|    No|Sun|Dinner|   4|     0.1862|\n",
      "|      8.77| 2.0|  Male|    No|Sun|Dinner|   2|     0.2281|\n",
      "|     26.88|3.12|  Male|    No|Sun|Dinner|   4|     0.1161|\n",
      "|     15.04|1.96|  Male|    No|Sun|Dinner|   2|     0.1303|\n",
      "+----------+----+------+------+---+------+----+-----------+\n",
      "only showing top 9 rows\n",
      "\n"
     ]
    }
   ],
   "source": [
    "tip_percent = round((tips.tip / tips.total_bill), 4)\\\n",
    "                .alias('tip_percent')\n",
    "tips.withColumn('tip_percent', tip_percent).show(9)"
   ]
  },
  {
   "cell_type": "code",
   "execution_count": 20,
   "metadata": {},
   "outputs": [
    {
     "name": "stdout",
     "output_type": "stream",
     "text": [
      "+------+------+-----------+\n",
      "|   sex|smoker|tip_percent|\n",
      "+------+------+-----------+\n",
      "|  Male|    No|     0.1607|\n",
      "|  Male|   Yes|     0.1528|\n",
      "|Female|    No|     0.1569|\n",
      "|Female|   Yes|     0.1821|\n",
      "+------+------+-----------+\n",
      "\n"
     ]
    }
   ],
   "source": [
    "tips.groupBy('sex','smoker').agg(round(avg(tip_percent), 4)\n",
    "                    .alias('tip_percent')).show(5)"
   ]
  },
  {
   "cell_type": "code",
   "execution_count": 21,
   "metadata": {},
   "outputs": [
    {
     "name": "stdout",
     "output_type": "stream",
     "text": [
      "+----------+-------------+--------+--------+----+-------+\n",
      "|      date|precipitation|temp_max|temp_min|wind|weather|\n",
      "+----------+-------------+--------+--------+----+-------+\n",
      "|2012-01-01|          0.0|    12.8|     5.0| 4.7|drizzle|\n",
      "|2012-01-02|         10.9|    10.6|     2.8| 4.5|   rain|\n",
      "|2012-01-03|          0.8|    11.7|     7.2| 2.3|   rain|\n",
      "|2012-01-04|         20.3|    12.2|     5.6| 4.7|   rain|\n",
      "|2012-01-05|          1.3|     8.9|     2.8| 6.1|   rain|\n",
      "|2012-01-06|          2.5|     4.4|     2.2| 2.2|   rain|\n",
      "+----------+-------------+--------+--------+----+-------+\n",
      "only showing top 6 rows\n",
      "\n"
     ]
    }
   ],
   "source": [
    "weather = data.seattle_weather().assign(date=\n",
    "                                lambda df: df.date.astype(str))\n",
    "weather = spark.createDataFrame(weather)\n",
    "weather.show(6)"
   ]
  },
  {
   "cell_type": "code",
   "execution_count": 40,
   "metadata": {},
   "outputs": [
    {
     "name": "stdout",
     "output_type": "stream",
     "text": [
      "+----------+-------------+--------+--------+----+-------+\n",
      "|      date|precipitation|temp_max|temp_min|wind|weather|\n",
      "+----------+-------------+--------+--------+----+-------+\n",
      "|2012-01-01|          0.0|   55.04|    41.0| 4.7|drizzle|\n",
      "|2012-01-02|         10.9|   51.08|   37.04| 4.5|   rain|\n",
      "|2012-01-03|          0.8|   53.06|   44.96| 2.3|   rain|\n",
      "|2012-01-04|         20.3|   53.96|   42.08| 4.7|   rain|\n",
      "|2012-01-05|          1.3|   48.02|   37.04| 6.1|   rain|\n",
      "|2012-01-06|          2.5|   39.92|   35.96| 2.2|   rain|\n",
      "|2012-01-07|          0.0|   44.96|   37.04| 2.3|   rain|\n",
      "|2012-01-08|          0.0|    50.0|   37.04| 2.0|    sun|\n",
      "|2012-01-09|          4.3|   48.92|    41.0| 3.4|   rain|\n",
      "|2012-01-10|          1.0|   42.98|   33.08| 3.4|   rain|\n",
      "|2012-01-11|          0.0|   42.98|   30.02| 5.1|    sun|\n",
      "|2012-01-12|          0.0|   42.98|   28.94| 1.9|    sun|\n",
      "|2012-01-13|          0.0|    41.0|   26.96| 1.3|    sun|\n",
      "|2012-01-14|          4.1|   39.92|   33.08| 5.3|   snow|\n",
      "|2012-01-15|          5.3|   33.98|   26.06| 3.2|   snow|\n",
      "|2012-01-16|          2.5|   35.06|   26.96| 5.0|   snow|\n",
      "|2012-01-17|          8.1|   37.94|    32.0| 5.6|   snow|\n",
      "|2012-01-18|         19.8|    32.0|   26.96| 5.0|   snow|\n",
      "|2012-01-19|         15.2|   30.02|   26.96| 1.6|   snow|\n",
      "|2012-01-20|         13.5|   44.96|   30.02| 2.3|   snow|\n",
      "+----------+-------------+--------+--------+----+-------+\n",
      "only showing top 20 rows\n",
      "\n"
     ]
    }
   ],
   "source": [
    "C_max = round((weather.temp_max * 9/5) + 32, 2)\n",
    "C_min = round((weather.temp_min * 9/5) + 32, 2)\n",
    "# weather.select(C_max.alias('C_max') , C_min.alias('C_min')).show(5)\n",
    "weather.withColumn('temp_max', C_max)\\\n",
    "        .withColumn('temp_min', C_min).show()"
   ]
  },
  {
   "cell_type": "code",
   "execution_count": 42,
   "metadata": {},
   "outputs": [
    {
     "name": "stdout",
     "output_type": "stream",
     "text": [
      "+-----+------------------+\n",
      "|month|          avg_rain|\n",
      "+-----+------------------+\n",
      "|   11|             642.5|\n",
      "|   12|             622.7|\n",
      "|    3|             606.2|\n",
      "|   10|             503.4|\n",
      "|    1|465.99999999999994|\n",
      "|    2|             422.0|\n",
      "|    4|             375.4|\n",
      "|    9|235.49999999999997|\n",
      "|    5|             207.5|\n",
      "|    8|             163.7|\n",
      "|    6|             132.9|\n",
      "|    7|              48.2|\n",
      "+-----+------------------+\n",
      "\n"
     ]
    }
   ],
   "source": [
    "weather.withColumn('month', month('date')).groupBy('month')\\\n",
    "        .agg(sum('precipitation').alias('avg_rain'))\\\n",
    "        .sort('avg_rain', ascending=False).show()"
   ]
  },
  {
   "cell_type": "code",
   "execution_count": 41,
   "metadata": {},
   "outputs": [
    {
     "name": "stdout",
     "output_type": "stream",
     "text": [
      "+----+------------------+\n",
      "|year|          avg_wind|\n",
      "+----+------------------+\n",
      "|2012|1244.6999999999998|\n",
      "|2014|1236.5000000000005|\n",
      "|2015|            1153.3|\n",
      "|2013|1100.8000000000002|\n",
      "+----+------------------+\n",
      "\n"
     ]
    }
   ],
   "source": [
    "weather.withColumn('year', year('date')).groupBy('year')\\\n",
    "        .agg(sum('wind').alias('avg_wind'))\\\n",
    "        .sort('avg_wind', ascending=False).show()"
   ]
  },
  {
   "cell_type": "code",
   "execution_count": 44,
   "metadata": {},
   "outputs": [
    {
     "name": "stdout",
     "output_type": "stream",
     "text": [
      "+-------+-----+\n",
      "|weather|count|\n",
      "+-------+-----+\n",
      "|    fog|   38|\n",
      "|   rain|   35|\n",
      "|    sun|   33|\n",
      "|drizzle|   10|\n",
      "|   snow|    8|\n",
      "+-------+-----+\n",
      "\n"
     ]
    }
   ],
   "source": [
    "weather.where(month('date') == 1).select('weather')\\\n",
    "        .groupBy('weather').count().sort('count', ascending=False)\\\n",
    "        .show()"
   ]
  },
  {
   "cell_type": "code",
   "execution_count": 28,
   "metadata": {},
   "outputs": [
    {
     "name": "stdout",
     "output_type": "stream",
     "text": [
      "+----------+-------------+--------+--------+----+-------+\n",
      "|      date|precipitation|temp_max|temp_min|wind|weather|\n",
      "+----------+-------------+--------+--------+----+-------+\n",
      "|2012-01-01|          0.0|    12.8|     5.0| 4.7|drizzle|\n",
      "|2012-01-02|         10.9|    10.6|     2.8| 4.5|   rain|\n",
      "|2012-01-03|          0.8|    11.7|     7.2| 2.3|   rain|\n",
      "|2012-01-04|         20.3|    12.2|     5.6| 4.7|   rain|\n",
      "|2012-01-05|          1.3|     8.9|     2.8| 6.1|   rain|\n",
      "+----------+-------------+--------+--------+----+-------+\n",
      "only showing top 5 rows\n",
      "\n"
     ]
    }
   ],
   "source": [
    "weather.show(5)"
   ]
  },
  {
   "cell_type": "code",
   "execution_count": null,
   "metadata": {},
   "outputs": [],
   "source": [
    "# (weather\n",
    "#     .filter(month('date') == 7\n",
    "#     .filter(year('date') > 2012\n",
    "#     .filter(year('date') < 2015)\n",
    "#     .filter(col('weather') == lit('sun')\n",
    "#            .agg(avg)))))"
   ]
  },
  {
   "cell_type": "code",
   "execution_count": 30,
   "metadata": {},
   "outputs": [
    {
     "data": {
      "text/plain": [
       "0.021739130434782608"
      ]
     },
     "execution_count": 30,
     "metadata": {},
     "output_type": "execute_result"
    }
   ],
   "source": [
    "q3_2015_rainy_days = \\\n",
    "            weather.where((quarter('date') == 3) & \\\n",
    "                          (year('date') == 2015))\\\n",
    "                   .where(weather.weather =='rain').count()\n",
    "q3_2015_days = weather.where((month('date').isin([7,8,9])) & \\\n",
    "                             (year('date') == 2015)).count()\n",
    "q3_2015_rainy_days / q3_2015_days"
   ]
  },
  {
   "cell_type": "code",
   "execution_count": 47,
   "metadata": {},
   "outputs": [
    {
     "name": "stdout",
     "output_type": "stream",
     "text": [
      "+--------------------+\n",
      "|           avg(rain)|\n",
      "+--------------------+\n",
      "|0.021739130434782608|\n",
      "+--------------------+\n",
      "\n"
     ]
    }
   ],
   "source": [
    "(weather\n",
    "    .filter(year('date') == 2015)\n",
    "    .filter(quarter('date') == 3)\n",
    "    .select(when(col('weather') == 'rain', 1).otherwise(0)\n",
    "    .alias('rain'))\n",
    "    .agg(mean('rain')).show())"
   ]
  },
  {
   "cell_type": "code",
   "execution_count": 32,
   "metadata": {},
   "outputs": [
    {
     "name": "stdout",
     "output_type": "stream",
     "text": [
      "+----------+-----+\n",
      "|year(date)|count|\n",
      "+----------+-----+\n",
      "|      2012|  177|\n",
      "|      2013|  152|\n",
      "|      2014|  150|\n",
      "|      2015|  144|\n",
      "+----------+-----+\n",
      "\n"
     ]
    }
   ],
   "source": [
    "weather.where(weather.precipitation > 0).groupBy(year('date'))\\\n",
    "            .count().sort('year(date)').show()"
   ]
  },
  {
   "cell_type": "code",
   "execution_count": 49,
   "metadata": {},
   "outputs": [
    {
     "name": "stdout",
     "output_type": "stream",
     "text": [
      "+----------+-----+-------+\n",
      "|year(date)|count|percent|\n",
      "+----------+-----+-------+\n",
      "|      2012|  177|  0.485|\n",
      "|      2013|  152|  0.416|\n",
      "|      2014|  150|  0.411|\n",
      "|      2015|  144|  0.395|\n",
      "+----------+-----+-------+\n",
      "\n"
     ]
    }
   ],
   "source": [
    "weather.where(weather.precipitation > 0).groupBy(year('date'))\\\n",
    "            .count().sort('year(date)')\\\n",
    "            .withColumn('percent', round(col('count')/365, 3))\\\n",
    "            .show()"
   ]
  },
  {
   "cell_type": "code",
   "execution_count": null,
   "metadata": {},
   "outputs": [],
   "source": [
    "# (weather\n",
    "#     .withColumn('rain', when(col('precipitation') > 0, 1)\n",
    "#     .otherwise(0)))\n",
    "#     .groupBy(year)"
   ]
  },
  {
   "cell_type": "code",
   "execution_count": 34,
   "metadata": {},
   "outputs": [],
   "source": [
    "# rainy = weather.when()"
   ]
  },
  {
   "cell_type": "code",
   "execution_count": null,
   "metadata": {},
   "outputs": [],
   "source": [
    "# days_rained = weather.where(weather.precipitation > 0)\\\n",
    "#                     .groupBy(F.year('date')).count()\n",
    "# weather.select(days_rained)"
   ]
  },
  {
   "cell_type": "code",
   "execution_count": null,
   "metadata": {},
   "outputs": [],
   "source": []
  }
 ],
 "metadata": {
  "kernelspec": {
   "display_name": "Python 3",
   "language": "python",
   "name": "python3"
  },
  "language_info": {
   "codemirror_mode": {
    "name": "ipython",
    "version": 3
   },
   "file_extension": ".py",
   "mimetype": "text/x-python",
   "name": "python",
   "nbconvert_exporter": "python",
   "pygments_lexer": "ipython3",
   "version": "3.7.4"
  }
 },
 "nbformat": 4,
 "nbformat_minor": 2
}
