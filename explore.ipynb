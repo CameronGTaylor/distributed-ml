{
 "cells": [
  {
   "cell_type": "code",
   "execution_count": 1,
   "metadata": {},
   "outputs": [],
   "source": [
    "import pyspark\n",
    "import pandas as pd\n",
    "import numpy as np\n",
    "import seaborn as sns\n",
    "import matplotlib.pyplot as plt\n",
    "from pyspark.sql.functions import *\n",
    "from wrangle import wrangle_311\n",
    "\n",
    "spark = pyspark.sql.SparkSession.builder.getOrCreate()"
   ]
  },
  {
   "cell_type": "code",
   "execution_count": 2,
   "metadata": {},
   "outputs": [],
   "source": [
    "plt.rc('figure', figsize=(14,8))\n",
    "plt.rc('font', size=16)"
   ]
  },
  {
   "cell_type": "code",
   "execution_count": 3,
   "metadata": {},
   "outputs": [
    {
     "name": "stdout",
     "output_type": "stream",
     "text": [
      "[wrangle.py] reading case.csv\n",
      "[wrangle.py] handling data types\n",
      "[wrangle.py] parsing dates\n",
      "[wrangle.py] adding features\n",
      "[wrangle.py] joining departments\n",
      "-RECORD 0------------------------------------\n",
      " case_id              | 1014127332           \n",
      " case_opened_date     | 2018-01-01 00:42:00  \n",
      " case_closed_date     | 2018-01-01 12:29:00  \n",
      " case_due_date        | 2020-09-26 00:42:00  \n",
      " case_late            | false                \n",
      " num_days_late        | -998.5087616000001   \n",
      " case_closed          | true                 \n",
      " service_request_type | Stray Animal         \n",
      " SLA_days             | 999.0                \n",
      " case_status          | Closed               \n",
      " source_id            | svcCRMLS             \n",
      " request_address      | 2315  EL PASO ST,... \n",
      " council_district     | 005                  \n",
      " num_weeks_late       | -142.6441088         \n",
      " zipcode              | 78207                \n",
      " case_age             | 219                  \n",
      " days_to_closed       | 0                    \n",
      " case_lifetime        | 0                    \n",
      " department           | Animal Care Services \n",
      " dept_subject_to_SLA  | true                 \n",
      "only showing top 1 row\n",
      "\n"
     ]
    }
   ],
   "source": [
    "df = wrangle_311(spark)\n",
    "df.show(1, vertical=True)"
   ]
  },
  {
   "cell_type": "code",
   "execution_count": 4,
   "metadata": {},
   "outputs": [
    {
     "data": {
      "text/plain": [
       "[('case_id', 'int'),\n",
       " ('case_opened_date', 'timestamp'),\n",
       " ('case_closed_date', 'timestamp'),\n",
       " ('case_due_date', 'timestamp'),\n",
       " ('case_late', 'boolean'),\n",
       " ('num_days_late', 'double'),\n",
       " ('case_closed', 'boolean'),\n",
       " ('service_request_type', 'string'),\n",
       " ('SLA_days', 'double'),\n",
       " ('case_status', 'string'),\n",
       " ('source_id', 'string'),\n",
       " ('request_address', 'string'),\n",
       " ('council_district', 'string'),\n",
       " ('num_weeks_late', 'double'),\n",
       " ('zipcode', 'string'),\n",
       " ('case_age', 'int'),\n",
       " ('days_to_closed', 'int'),\n",
       " ('case_lifetime', 'int'),\n",
       " ('department', 'string'),\n",
       " ('dept_subject_to_SLA', 'boolean')]"
      ]
     },
     "execution_count": 4,
     "metadata": {},
     "output_type": "execute_result"
    }
   ],
   "source": [
    "df.dtypes"
   ]
  },
  {
   "cell_type": "code",
   "execution_count": 5,
   "metadata": {},
   "outputs": [
    {
     "name": "stdout",
     "output_type": "stream",
     "text": [
      "+-------------------+------+\n",
      "|dept_subject_to_SLA| count|\n",
      "+-------------------+------+\n",
      "|               true|841671|\n",
      "|              false|    33|\n",
      "+-------------------+------+\n",
      "\n"
     ]
    }
   ],
   "source": [
    "df.groupBy('dept_subject_to_SLA').count().show()"
   ]
  },
  {
   "cell_type": "code",
   "execution_count": 6,
   "metadata": {},
   "outputs": [],
   "source": [
    "df = df.drop('dept_subject_to_SLA', 'days_to_closed', 'case_closed',\n",
    "             'case_id', 'source_id', 'request_address', 'zipcode',\n",
    "             'case_due_date')"
   ]
  },
  {
   "cell_type": "code",
   "execution_count": 7,
   "metadata": {},
   "outputs": [
    {
     "name": "stdout",
     "output_type": "stream",
     "text": [
      "-RECORD 0------------------------------------\n",
      " case_opened_date     | 2018-01-01 00:42:00  \n",
      " case_closed_date     | 2018-01-01 12:29:00  \n",
      " case_late            | false                \n",
      " num_days_late        | -998.5087616000001   \n",
      " service_request_type | Stray Animal         \n",
      " SLA_days             | 999.0                \n",
      " case_status          | Closed               \n",
      " council_district     | 005                  \n",
      " num_weeks_late       | -142.6441088         \n",
      " case_age             | 219                  \n",
      " case_lifetime        | 0                    \n",
      " department           | Animal Care Services \n",
      "only showing top 1 row\n",
      "\n"
     ]
    }
   ],
   "source": [
    "df.show(1, vertical=True)"
   ]
  },
  {
   "cell_type": "code",
   "execution_count": 8,
   "metadata": {},
   "outputs": [
    {
     "data": {
      "text/plain": [
       "Text(0.5, 0, 'Number of Cases')"
      ]
     },
     "execution_count": 8,
     "metadata": {},
     "output_type": "execute_result"
    },
    {
     "data": {
      "image/png": "[encoded data removed]",
      "text/plain": [
       "<Figure size 1008x576 with 1 Axes>"
      ]
     },
     "metadata": {
      "needs_background": "light"
     },
     "output_type": "display_data"
    }
   ],
   "source": [
    "df.groupBy('department').count().toPandas().set_index('department')\\\n",
    "['count'].sort_values(ascending=False).plot.barh()\n",
    "\n",
    "plt.title(\"Number of Cases By Department\")\n",
    "plt.ylabel(\"\")\n",
    "plt.xlabel(\"Number of Cases\")"
   ]
  },
  {
   "cell_type": "code",
   "execution_count": 9,
   "metadata": {},
   "outputs": [
    {
     "name": "stdout",
     "output_type": "stream",
     "text": [
      "+--------------------+-----+\n",
      "|          department|count|\n",
      "+--------------------+-----+\n",
      "|         Solid Waste|32945|\n",
      "|Animal Care Services|23276|\n",
      "|Trans & Cap Impro...| 5411|\n",
      "|  Parks & Recreation| 3797|\n",
      "|    Customer Service| 2010|\n",
      "|        Metro Health|  829|\n",
      "|DSD/Code Enforcement|26235|\n",
      "+--------------------+-----+\n",
      "\n"
     ]
    }
   ],
   "source": [
    "df.where('case_late').groupBy('department').count().show()"
   ]
  },
  {
   "cell_type": "code",
   "execution_count": 10,
   "metadata": {},
   "outputs": [
    {
     "name": "stdout",
     "output_type": "stream",
     "text": [
      "+--------------------+---------+\n",
      "|          department|num_cases|\n",
      "+--------------------+---------+\n",
      "|         Solid Waste|   279270|\n",
      "|Animal Care Services|   116915|\n",
      "|Trans & Cap Impro...|    96193|\n",
      "|  Parks & Recreation|    19907|\n",
      "|    Customer Service|     2849|\n",
      "|        Metro Health|     5163|\n",
      "|        City Council|       33|\n",
      "|DSD/Code Enforcement|   321374|\n",
      "+--------------------+---------+\n",
      "\n"
     ]
    }
   ],
   "source": [
    "dept_cases = df.groupBy('department').count()\\\n",
    "                .withColumnRenamed('count', 'num_cases')\n",
    "dept_cases.show()"
   ]
  },
  {
   "cell_type": "code",
   "execution_count": 11,
   "metadata": {},
   "outputs": [
    {
     "name": "stdout",
     "output_type": "stream",
     "text": [
      "+--------------------+----------+---------+-------------------+\n",
      "|          department|late_cases|num_cases|       percent_late|\n",
      "+--------------------+----------+---------+-------------------+\n",
      "|    Customer Service|      2010|     2849| 0.7055107055107055|\n",
      "|Animal Care Services|     23276|   116915|0.19908480520035923|\n",
      "|  Parks & Recreation|      3797|    19907|0.19073692670919776|\n",
      "|        Metro Health|       829|     5163|0.16056556265736974|\n",
      "|         Solid Waste|     32945|   279270| 0.1179682744297633|\n",
      "|DSD/Code Enforcement|     26235|   321374| 0.0816338596152769|\n",
      "|Trans & Cap Impro...|      5411|    96193|0.05625149439148379|\n",
      "+--------------------+----------+---------+-------------------+\n",
      "\n"
     ]
    }
   ],
   "source": [
    "dept_late_cases = df.where('case_late').groupBy('department').count()\\\n",
    ".withColumnRenamed('count', 'late_cases')\\\n",
    ".join(dept_cases, 'department', 'left')\\\n",
    ".withColumn('percent_late', col('late_cases') / col('num_cases'))\\\n",
    ".sort(col('percent_late').desc())\n",
    "dept_late_cases.show()"
   ]
  },
  {
   "cell_type": "code",
   "execution_count": 12,
   "metadata": {},
   "outputs": [
    {
     "data": {
      "image/png": "[encoded data removed]",
      "text/plain": [
       "<Figure size 1008x576 with 1 Axes>"
      ]
     },
     "metadata": {
      "needs_background": "light"
     },
     "output_type": "display_data"
    }
   ],
   "source": [
    "ax = dept_late_cases.select('department', 'percent_late')\\\n",
    ".toPandas().set_index('department').plot.barh()\n",
    "\n",
    "plt.title('Percent of cases which are late by department')\n",
    "ax.set_ylabel(\"\")\n",
    "ax.set_xlabel('Percent of cases late')\n",
    "ax.get_legend().remove()"
   ]
  },
  {
   "cell_type": "code",
   "execution_count": 13,
   "metadata": {},
   "outputs": [
    {
     "data": {
      "text/plain": [
       "Text(0.5, 0, 'Average days late')"
      ]
     },
     "execution_count": 13,
     "metadata": {},
     "output_type": "execute_result"
    },
    {
     "data": {
      "image/png": "[encoded data removed]",
      "text/plain": [
       "<Figure size 1008x576 with 1 Axes>"
      ]
     },
     "metadata": {
      "needs_background": "light"
     },
     "output_type": "display_data"
    }
   ],
   "source": [
    "ax = df.where('case_late').groupBy('department')\\\n",
    ".agg(avg('num_days_late').alias('avg_late'))\\\n",
    ".sort(col('avg_late').desc()).toPandas()\\\n",
    ".set_index('department').plot.barh()\n",
    "\n",
    "ax.set_ylabel('')\n",
    "ax.set_xlabel('Average days late')"
   ]
  },
  {
   "cell_type": "code",
   "execution_count": 14,
   "metadata": {},
   "outputs": [
    {
     "name": "stdout",
     "output_type": "stream",
     "text": [
      "-RECORD 0------------------------------------\n",
      " case_opened_date     | 2018-01-01 00:42:00  \n",
      " case_closed_date     | 2018-01-01 12:29:00  \n",
      " case_late            | false                \n",
      " num_days_late        | -998.5087616000001   \n",
      " service_request_type | Stray Animal         \n",
      " SLA_days             | 999.0                \n",
      " case_status          | Closed               \n",
      " council_district     | 005                  \n",
      " num_weeks_late       | -142.6441088         \n",
      " case_age             | 219                  \n",
      " case_lifetime        | 0                    \n",
      " department           | Animal Care Services \n",
      "only showing top 1 row\n",
      "\n"
     ]
    }
   ],
   "source": [
    "df.show(1, vertical=True)"
   ]
  },
  {
   "cell_type": "code",
   "execution_count": 15,
   "metadata": {},
   "outputs": [
    {
     "data": {
      "text/plain": [
       "Row(service_request_type='Bandit Signs', max_late=519.6980787)"
      ]
     },
     "execution_count": 15,
     "metadata": {},
     "output_type": "execute_result"
    }
   ],
   "source": [
    "df.where('case_late').groupBy('service_request_type')\\\n",
    ".agg(max('num_days_late').alias('max_late'))\\\n",
    ".sort(col('max_late').desc()).first()"
   ]
  },
  {
   "cell_type": "code",
   "execution_count": 16,
   "metadata": {},
   "outputs": [
    {
     "data": {
      "text/plain": [
       "Row(service_request_type='Painting', max_late=427.6660069)"
      ]
     },
     "execution_count": 16,
     "metadata": {},
     "output_type": "execute_result"
    }
   ],
   "source": [
    "df.where('case_late').where(df.department == 'Parks & Recreation')\\\n",
    ".groupBy('service_request_type')\\\n",
    ".agg(max('num_days_late').alias('max_late'))\\\n",
    ".sort(col('max_late').desc()).first()"
   ]
  },
  {
   "cell_type": "code",
   "execution_count": 17,
   "metadata": {},
   "outputs": [
    {
     "name": "stdout",
     "output_type": "stream",
     "text": [
      "+--------------------------------+-----+\n",
      "|service_request_type            |count|\n",
      "+--------------------------------+-----+\n",
      "|Overgrown Yard/Trash            |65895|\n",
      "|Bandit Signs                    |32910|\n",
      "|Front Or Side Yard Parking      |28794|\n",
      "|Junk Vehicle On Private Property|21473|\n",
      "|Alley-Way Maintenance           |20214|\n",
      "+--------------------------------+-----+\n",
      "only showing top 5 rows\n",
      "\n"
     ]
    }
   ],
   "source": [
    "df.where(df.department == 'DSD/Code Enforcement')\\\n",
    ".groupBy('service_request_type').count()\\\n",
    ".sort(col('count').desc()).show(5, truncate=False)"
   ]
  },
  {
   "cell_type": "code",
   "execution_count": 18,
   "metadata": {},
   "outputs": [
    {
     "name": "stdout",
     "output_type": "stream",
     "text": [
      "+-----------------------+-----+\n",
      "|service_request_type   |count|\n",
      "+-----------------------+-----+\n",
      "|License Renewal Invoice|1349 |\n",
      "|Hygienic Practices     |946  |\n",
      "|Pests                  |715  |\n",
      "|Food Contact Surfaces  |602  |\n",
      "|Public Right of Way    |538  |\n",
      "+-----------------------+-----+\n",
      "only showing top 5 rows\n",
      "\n"
     ]
    }
   ],
   "source": [
    "df.where(df.department == 'Metro Health')\\\n",
    ".groupBy('service_request_type').count()\\\n",
    ".sort(col('count').desc()).show(5, truncate=False)"
   ]
  },
  {
   "cell_type": "code",
   "execution_count": 19,
   "metadata": {},
   "outputs": [
    {
     "name": "stdout",
     "output_type": "stream",
     "text": [
      "+----------------------------------------------+-----+\n",
      "|service_request_type                          |count|\n",
      "+----------------------------------------------+-----+\n",
      "|Pot Hole Repair                               |20616|\n",
      "|Traffic Signal Ops and Maintenance - Emergency|7997 |\n",
      "|Traffic Sign Missing/Down                     |5674 |\n",
      "|Base/Pavement Repair                          |5385 |\n",
      "|Signal Timing Modification                    |4414 |\n",
      "+----------------------------------------------+-----+\n",
      "only showing top 5 rows\n",
      "\n"
     ]
    }
   ],
   "source": [
    "df.where(df.department == 'Trans & Cap Improvements')\\\n",
    ".groupBy('service_request_type').count()\\\n",
    ".sort(col('count').desc()).show(5, truncate=False)"
   ]
  },
  {
   "cell_type": "code",
   "execution_count": 20,
   "metadata": {},
   "outputs": [
    {
     "name": "stdout",
     "output_type": "stream",
     "text": [
      "+------------------------+------+\n",
      "|department              |count |\n",
      "+------------------------+------+\n",
      "|Solid Waste             |279270|\n",
      "|Animal Care Services    |116915|\n",
      "|Trans & Cap Improvements|96193 |\n",
      "|Parks & Recreation      |19907 |\n",
      "|Customer Service        |2849  |\n",
      "|Metro Health            |5163  |\n",
      "|City Council            |33    |\n",
      "|DSD/Code Enforcement    |321374|\n",
      "+------------------------+------+\n",
      "\n"
     ]
    }
   ],
   "source": [
    "df.groupBy('department').count().show(truncate=False)"
   ]
  },
  {
   "cell_type": "code",
   "execution_count": 21,
   "metadata": {},
   "outputs": [
    {
     "name": "stdout",
     "output_type": "stream",
     "text": [
      "+--------------------+----------------+----------------+\n",
      "|          department|case_opened_date|case_closed_date|\n",
      "+--------------------+----------------+----------------+\n",
      "|Animal Care Services|      2018-01-01|      2018-01-01|\n",
      "|Trans & Cap Impro...|      2018-01-01|      2018-01-03|\n",
      "|Trans & Cap Impro...|      2018-01-01|      2018-01-02|\n",
      "|DSD/Code Enforcement|      2018-01-01|      2018-01-02|\n",
      "|Animal Care Services|      2018-01-01|      2018-01-01|\n",
      "+--------------------+----------------+----------------+\n",
      "only showing top 5 rows\n",
      "\n"
     ]
    }
   ],
   "source": [
    "cases_by_day = df.select(\"department\",\n",
    "    date_format(\"case_opened_date\", \"yyyy-MM-dd\")\\\n",
    "        .alias(\"case_opened_date\"),\n",
    "    date_format(\"case_closed_date\", \"yyyy-MM-dd\")\\\n",
    "        .alias(\"case_closed_date\"),)\n",
    "cases_by_day.show(5)"
   ]
  },
  {
   "cell_type": "code",
   "execution_count": 22,
   "metadata": {},
   "outputs": [
    {
     "data": {
      "text/plain": [
       "841704"
      ]
     },
     "execution_count": 22,
     "metadata": {},
     "output_type": "execute_result"
    }
   ],
   "source": [
    "cases_by_day.count()"
   ]
  },
  {
   "cell_type": "code",
   "execution_count": 23,
   "metadata": {},
   "outputs": [],
   "source": [
    "cases_opened_by_day = (\n",
    "    cases_by_day\n",
    "    .groupby('case_opened_date')\n",
    "    .count()\n",
    "    .na.drop()\n",
    "    .sort('case_opened_date')\n",
    "    .toPandas()\n",
    "    .assign(case_opened_date=lambda \n",
    "            df: pd.to_datetime(df.case_opened_date))\n",
    "    .set_index('case_opened_date')['count']\n",
    ")\n",
    "cases_opened_by_day.name = 'cases_opened'"
   ]
  },
  {
   "cell_type": "code",
   "execution_count": 24,
   "metadata": {},
   "outputs": [],
   "source": [
    "cases_closed_by_day = (\n",
    "    cases_by_day\n",
    "    .groupby('case_closed_date')\n",
    "    .count().na.drop()\n",
    "    .sort('case_closed_date')\n",
    "    .toPandas()\n",
    "    .assign(case_closed_date=lambda \n",
    "            df: pd.to_datetime(df.case_closed_date))\n",
    "    .set_index('case_closed_date')['count']\n",
    ")\n",
    "cases_closed_by_day.name = 'cases_closed'"
   ]
  },
  {
   "cell_type": "code",
   "execution_count": 25,
   "metadata": {},
   "outputs": [
    {
     "data": {
      "text/html": [
       "<div>\n",
       "<style scoped>\n",
       "    .dataframe tbody tr th:only-of-type {\n",
       "        vertical-align: middle;\n",
       "    }\n",
       "\n",
       "    .dataframe tbody tr th {\n",
       "        vertical-align: top;\n",
       "    }\n",
       "\n",
       "    .dataframe thead th {\n",
       "        text-align: right;\n",
       "    }\n",
       "</style>\n",
       "<table border=\"1\" class=\"dataframe\">\n",
       "  <thead>\n",
       "    <tr style=\"text-align: right;\">\n",
       "      <th></th>\n",
       "      <th>cases_opened</th>\n",
       "      <th>cases_closed</th>\n",
       "    </tr>\n",
       "  </thead>\n",
       "  <tbody>\n",
       "    <tr>\n",
       "      <th>2017-01-01</th>\n",
       "      <td>155</td>\n",
       "      <td>67</td>\n",
       "    </tr>\n",
       "    <tr>\n",
       "      <th>2017-01-02</th>\n",
       "      <td>1397</td>\n",
       "      <td>385</td>\n",
       "    </tr>\n",
       "    <tr>\n",
       "      <th>2017-01-03</th>\n",
       "      <td>1760</td>\n",
       "      <td>734</td>\n",
       "    </tr>\n",
       "    <tr>\n",
       "      <th>2017-01-04</th>\n",
       "      <td>1613</td>\n",
       "      <td>1206</td>\n",
       "    </tr>\n",
       "    <tr>\n",
       "      <th>2017-01-05</th>\n",
       "      <td>1791</td>\n",
       "      <td>1173</td>\n",
       "    </tr>\n",
       "  </tbody>\n",
       "</table>\n",
       "</div>"
      ],
      "text/plain": [
       "            cases_opened  cases_closed\n",
       "2017-01-01           155            67\n",
       "2017-01-02          1397           385\n",
       "2017-01-03          1760           734\n",
       "2017-01-04          1613          1206\n",
       "2017-01-05          1791          1173"
      ]
     },
     "execution_count": 25,
     "metadata": {},
     "output_type": "execute_result"
    }
   ],
   "source": [
    "ts = pd.concat([cases_opened_by_day, cases_closed_by_day], axis=1)\n",
    "ts.head(5)"
   ]
  },
  {
   "cell_type": "code",
   "execution_count": 26,
   "metadata": {},
   "outputs": [
    {
     "data": {
      "image/png": "[encoded data removed]",
      "text/plain": [
       "<Figure size 1008x576 with 1 Axes>"
      ]
     },
     "metadata": {
      "needs_background": "light"
     },
     "output_type": "display_data"
    }
   ],
   "source": [
    "ax = ts[:60].plot.bar()\n",
    "ax.set_xticks(7*np.arange(9))\n",
    "ax.set_xticklabels(('Sunday '*9).split(), rotation=45)\n",
    "plt.show()"
   ]
  },
  {
   "cell_type": "code",
   "execution_count": 27,
   "metadata": {},
   "outputs": [
    {
     "name": "stdout",
     "output_type": "stream",
     "text": [
      "+----------------+-----+\n",
      "|case_opened_date|count|\n",
      "+----------------+-----+\n",
      "|      2017-01-02|    3|\n",
      "|      2017-01-03|    6|\n",
      "|      2017-01-04|    2|\n",
      "|      2017-01-05|    5|\n",
      "|      2017-01-06|    3|\n",
      "|      2017-01-07|    2|\n",
      "|      2017-01-09|    2|\n",
      "|      2017-01-10|    5|\n",
      "|      2017-01-11|    3|\n",
      "|      2017-01-12|    4|\n",
      "+----------------+-----+\n",
      "only showing top 10 rows\n",
      "\n"
     ]
    }
   ],
   "source": [
    "cases_by_day.where(col('department') == 'Customer Service')\\\n",
    ".groupBy('case_opened_date').count()\\\n",
    ".sort(col('case_opened_date')).show(10)"
   ]
  },
  {
   "cell_type": "code",
   "execution_count": 28,
   "metadata": {},
   "outputs": [
    {
     "name": "stdout",
     "output_type": "stream",
     "text": [
      "+-----------+\n",
      "| avg(count)|\n",
      "+-----------+\n",
      "|5.564453125|\n",
      "+-----------+\n",
      "\n"
     ]
    }
   ],
   "source": [
    "cases_by_day.where(col('department') == 'Customer Service')\\\n",
    ".groupBy('case_opened_date').count()\\\n",
    ".sort(col('case_opened_date')).agg(avg(col('count'))).show()"
   ]
  },
  {
   "cell_type": "code",
   "execution_count": 29,
   "metadata": {},
   "outputs": [
    {
     "name": "stdout",
     "output_type": "stream",
     "text": [
      "+-------+-----+\n",
      "|weekday|count|\n",
      "+-------+-----+\n",
      "|   null|    3|\n",
      "|      1| 6882|\n",
      "|      2|58085|\n",
      "|      3|58120|\n",
      "|      4|41947|\n",
      "|      5|47718|\n",
      "|      6|51203|\n",
      "|      7|15312|\n",
      "+-------+-----+\n",
      "\n"
     ]
    }
   ],
   "source": [
    "cases_by_day.where(col('department') == 'Solid Waste')\\\n",
    ".groupBy(dayofweek('case_opened_date').alias('weekday'))\\\n",
    ".count().sort(col('weekday')).show()"
   ]
  },
  {
   "cell_type": "code",
   "execution_count": 30,
   "metadata": {},
   "outputs": [
    {
     "name": "stdout",
     "output_type": "stream",
     "text": [
      "+-------+-----+\n",
      "|weekday|count|\n",
      "+-------+-----+\n",
      "|   null|    3|\n",
      "|      1| 6882|\n",
      "|      2|58085|\n",
      "|      3|58120|\n",
      "|      4|41947|\n",
      "|      5|47718|\n",
      "|      6|51203|\n",
      "|      7|15312|\n",
      "+-------+-----+\n",
      "\n"
     ]
    }
   ],
   "source": [
    "df.where(col('department') == 'Solid Waste')\\\n",
    ".groupBy(dayofweek('case_opened_date').alias('weekday'))\\\n",
    ".count().sort(col('weekday')).show()"
   ]
  },
  {
   "cell_type": "code",
   "execution_count": 31,
   "metadata": {},
   "outputs": [
    {
     "name": "stdout",
     "output_type": "stream",
     "text": [
      "+-----------------------+------+\n",
      "|month(case_opened_date)| count|\n",
      "+-----------------------+------+\n",
      "|                     12| 34327|\n",
      "|                   null|    16|\n",
      "|                      1| 82691|\n",
      "|                      6| 89580|\n",
      "|                      3|100696|\n",
      "|                      5| 94492|\n",
      "|                      9| 43179|\n",
      "|                      4| 89345|\n",
      "|                      8| 57941|\n",
      "|                      7| 85476|\n",
      "|                     10| 43908|\n",
      "|                     11| 38047|\n",
      "|                      2| 82006|\n",
      "+-----------------------+------+\n",
      "\n"
     ]
    }
   ],
   "source": [
    "df.groupBy(month('case_opened_date')).count().show()"
   ]
  },
  {
   "cell_type": "code",
   "execution_count": 32,
   "metadata": {},
   "outputs": [
    {
     "name": "stdout",
     "output_type": "stream",
     "text": [
      "+------------------------+--------------------------------+-----+\n",
      "|department              |service_request_type            |count|\n",
      "+------------------------+--------------------------------+-----+\n",
      "|Animal Care Services    |Stray Animal                    |2    |\n",
      "|Animal Care Services    |Officer Standby                 |1    |\n",
      "|DSD/Code Enforcement    |Junk Vehicle On Private Property|1    |\n",
      "|DSD/Code Enforcement    |Overgrown Yard/Trash            |2    |\n",
      "|DSD/Code Enforcement    |Graffiti Public Property        |2    |\n",
      "|DSD/Code Enforcement    |Vacant Lot/Overgrown/Trash      |1    |\n",
      "|Solid Waste             |Dead Animal - Cat               |2    |\n",
      "|Solid Waste             |Dead Animal - Misc              |1    |\n",
      "|Trans & Cap Improvements|Traffic Sign Missing/Down       |1    |\n",
      "|Trans & Cap Improvements|Pot Hole Repair                 |3    |\n",
      "+------------------------+--------------------------------+-----+\n",
      "\n"
     ]
    }
   ],
   "source": [
    "df.where(dayofweek('case_opened_date').isNull())\\\n",
    ".groupBy('department','service_request_type', ).count()\\\n",
    ".sort(col('department')).show(truncate=False)"
   ]
  },
  {
   "cell_type": "code",
   "execution_count": null,
   "metadata": {},
   "outputs": [],
   "source": []
  }
 ],
 "metadata": {
  "kernelspec": {
   "display_name": "Python 3",
   "language": "python",
   "name": "python3"
  },
  "language_info": {
   "codemirror_mode": {
    "name": "ipython",
    "version": 3
   },
   "file_extension": ".py",
   "mimetype": "text/x-python",
   "name": "python",
   "nbconvert_exporter": "python",
   "pygments_lexer": "ipython3",
   "version": "3.7.6"
  }
 },
 "nbformat": 4,
 "nbformat_minor": 2
}
